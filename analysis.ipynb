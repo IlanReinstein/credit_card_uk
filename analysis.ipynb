{
 "cells": [
  {
   "cell_type": "code",
   "execution_count": 442,
   "id": "b6a8cec2-56a8-4306-8af6-b10b1bc7a2bf",
   "metadata": {},
   "outputs": [],
   "source": [
    "import os\n",
    "import requests\n",
    "from bs4 import BeautifulSoup\n",
    "import pandas as pd\n",
    "import matplotlib.pyplot as plt\n",
    "import numpy as np"
   ]
  },
  {
   "cell_type": "markdown",
   "id": "68f80b6b-c8b6-47a8-a387-2b5426b8872e",
   "metadata": {},
   "source": [
    "## Introduction\n",
    "\n",
    "Using publicly available data on credit card purchases made by the Birmingham City Council we intend to find interesing patterns and insights from these transactions. We will try to find anomalous purchases so that we can flag any potential fraudulent behavior at the transaction level. We will apply clustering techniques as well as anomaly detection and forecasting.\n",
    "\n",
    "The purpose of this analysis is to understand underlying patterns in credit card movement through data to hopefully uncover irregular purchases which may lead to further auditing and investigation.\n",
    "\n",
    "## Data Collection\n",
    "\n",
    "The data consists of transactions made each month by the council on corporate\n",
    "\n",
    "We have multiple Excel spreadsheets from the Birmingham City Council Open Data Portal which we want to aquire the automatically. For this we will get the download links by scraping their website and running multiple HTTP requests to download each table."
   ]
  },
  {
   "cell_type": "code",
   "execution_count": 430,
   "id": "591b1abc-bfcc-41cf-9c56-96f2a8b9e235",
   "metadata": {},
   "outputs": [],
   "source": [
    "def get_data(url):\n",
    "    \"\"\"\n",
    "    Function to scrape download links from data source webpage and\n",
    "    retrieve file from the download.\n",
    "    \n",
    "    Parameters:\n",
    "    ===========\n",
    "        url: URL Path to Birmingham Open Data Site\n",
    "        \n",
    "    Returns:\n",
    "        None\n",
    "    \"\"\"\n",
    "    \n",
    "    page = requests.get(url)\n",
    "    soup = BeautifulSoup(page.content, 'html.parser')\n",
    "    data_resources = soup.find(id = 'dataset-resources')\n",
    "    resource_list = data_resources.find_all('li', class_='resource-item')\n",
    "    dl_links = [l.find_all('a', \"resource-url-analytics\")[0]['href'] for l in resource_list]\n",
    "    for link in dl_links:\n",
    "        resp = requests.get(link)\n",
    "        filename = os.path.join('data', 'raw', link.split('/')[-1])\n",
    "        output = open(filename, 'wb')\n",
    "        output.write(resp.content)\n",
    "        output.close()"
   ]
  },
  {
   "cell_type": "code",
   "execution_count": null,
   "id": "586dba58-3362-4ef0-92d0-833b5f23580f",
   "metadata": {},
   "outputs": [],
   "source": [
    "def find_directorate_col(dat):\n",
    "    \"\"\"\n",
    "    Function to find all directorate/merchant type columns to avoid ambiguity\n",
    "    Parameters:\n",
    "    ===========\n",
    "        dat: pandas.DataFrame loaded from Excel file\n",
    "    Returns:\n",
    "    ===========\n",
    "        string: Name of column \n",
    "    \"\"\"\n",
    "    dcol = dat.columns[dat.columns.str.contains('Directorate|Unnamed')][0]\n",
    "    return dcol"
   ]
  },
  {
   "cell_type": "code",
   "execution_count": null,
   "id": "f8e14cb7-59f3-4025-8ed0-26e4447cda97",
   "metadata": {},
   "outputs": [],
   "source": [
    "def get_clean_table():\n",
    "    \"\"\"\n",
    "    This function does the following data processing steps:\n",
    "    - Read all downloaded Excel files\n",
    "    - Filter to relevant columns\n",
    "    - Rename tables\n",
    "    - Create on big historical dataset\n",
    "    \"\"\"\n",
    "    cols = ['TRANS DATE', 'CARD NUMBER', 'ORIGINAL GROSS AMT', 'MERCHANT NAME']\n",
    "    tables = []\n",
    "    for f in glob('data/raw/*.xls'):\n",
    "        tab = pd.read_excel(f)\n",
    "        directorate_col = find_directorate_col(tab)\n",
    "        select_cols = cols + [directorate_col]\n",
    "        subtab = tab[select_cols]\n",
    "        subtab.columns = ['trans_date', 'card_number_id', 'gross_amount', 'merchant', 'category']\n",
    "        tables.append(subtab)\n",
    "    return pd.concat(tables)"
   ]
  },
  {
   "cell_type": "markdown",
   "id": "31d75847-d92c-4a53-b655-c3b4a3e70e12",
   "metadata": {},
   "source": [
    "The following command needs to be executed only once, which will collect and store locally the whole 44 tables"
   ]
  },
  {
   "cell_type": "code",
   "execution_count": null,
   "id": "7067312e-ef6c-4ba0-80c1-8cb7dfbf4fd2",
   "metadata": {},
   "outputs": [],
   "source": [
    "# pull all Excel Spreadsheets. Run once\n",
    "# URL = 'https://data.birmingham.gov.uk/dataset/purchase-card-transactions'\n",
    "# dl_links = get_data(URL)"
   ]
  },
  {
   "cell_type": "markdown",
   "id": "658da81b-3dd1-45a9-a5c9-a22cf49f7909",
   "metadata": {},
   "source": [
    "Once we have gathered the entirety of the data, we will move on to clean the table to create one single matrix with the variables of intereste to us. We will selecte these columns based on what is available for all tables, and what may be relevant for our subsequent analysis."
   ]
  },
  {
   "cell_type": "code",
   "execution_count": 371,
   "id": "b342f049-ccf1-47ba-8426-1afcc83e8543",
   "metadata": {},
   "outputs": [],
   "source": [
    "# Pre-process and merge all spreadsheets\n",
    "purchases = get_clean_table()"
   ]
  },
  {
   "cell_type": "markdown",
   "id": "6f6374c0-a55a-4626-9bbe-fc7b95ea37ee",
   "metadata": {},
   "source": [
    "## Data Cleaning\n",
    "\n",
    "In this section we will identify missing values, ambiguos strings, and number scales."
   ]
  },
  {
   "cell_type": "code",
   "execution_count": 372,
   "id": "d3adb52f-e305-4d25-9683-e5cceb38853e",
   "metadata": {},
   "outputs": [
    {
     "data": {
      "text/plain": [
       "trans_date          1\n",
       "card_number_id      1\n",
       "gross_amount        1\n",
       "merchant            1\n",
       "category          738\n",
       "dtype: int64"
      ]
     },
     "execution_count": 372,
     "metadata": {},
     "output_type": "execute_result"
    }
   ],
   "source": [
    "# Check for missingness\n",
    "purchases.isna().sum()"
   ]
  },
  {
   "cell_type": "markdown",
   "id": "14995314-de2f-4ac5-b1d0-e06f4e04361b",
   "metadata": {},
   "source": [
    "As we can see there is only one entry that has no data in any of the variables. We'll drop this entry."
   ]
  },
  {
   "cell_type": "code",
   "execution_count": 373,
   "id": "83b09504-9639-4164-905e-da9f12000055",
   "metadata": {},
   "outputs": [],
   "source": [
    "# Clean Credit Card numbers\n",
    "purchases['card_number_id'] = purchases['card_number_id'].str.replace('*', '', regex=False)\n"
   ]
  },
  {
   "cell_type": "markdown",
   "id": "f31209d0-3554-4f42-b7c6-a9d980da8825",
   "metadata": {},
   "source": [
    "The merchat/purchase category seems to be quite ambiguous and dirty, so let's have a look at the different values so that we may proceed with a proper cleaning strategy."
   ]
  },
  {
   "cell_type": "code",
   "execution_count": 374,
   "id": "a824998a-a966-408c-9682-4bf66987e2c8",
   "metadata": {},
   "outputs": [],
   "source": [
    "# Clean merchant/purchase category\n",
    "purchases['category'] = purchases['category'].str.lower().fillna('unknown')"
   ]
  },
  {
   "cell_type": "code",
   "execution_count": 376,
   "id": "76d0b3ff-689e-4f9e-9f42-1357761c714a",
   "metadata": {},
   "outputs": [
    {
     "data": {
      "text/plain": [
       "cyp&f schools                   87991\n",
       "local services                  42431\n",
       "cyp&f                           24467\n",
       "corporate resources             12464\n",
       "adult & communities             12367\n",
       "development                      4024\n",
       "unknown                           738\n",
       "adult social care and health      564\n",
       "cyp&f                             548\n",
       "cyp&f                             127\n",
       "cyo&f                              93\n",
       "adults & comms                     51\n",
       "adults                             24\n",
       "adults & communities               16\n",
       "corporate procurement               3\n",
       "                                    1\n",
       "Name: category, dtype: int64"
      ]
     },
     "execution_count": 376,
     "metadata": {},
     "output_type": "execute_result"
    }
   ],
   "source": [
    "purchases['category'].value_counts()"
   ]
  },
  {
   "cell_type": "markdown",
   "id": "cd1403d4-ae97-4911-909b-9bd9765ceb28",
   "metadata": {},
   "source": [
    "Since there are mulitple categories that represent the same idea, we will manually recode them in order to reduce the amount of variablity in this feature."
   ]
  },
  {
   "cell_type": "code",
   "execution_count": 624,
   "id": "91190802-41ec-4b82-8af8-2c245f22936f",
   "metadata": {},
   "outputs": [],
   "source": [
    "# Recode ambiguous categories\n",
    "purchases['category'] = purchases['category'].str.strip().replace({'adults': 'adults & communities',\n",
    "                                          'adults & comms': 'adults & communities',\n",
    "                                          'adult & communities': 'adults & communities',\n",
    "                                          'adults': 'adults & communities', \n",
    "                                          'adult social care and health': 'adults & communities',\n",
    "                                          'cyo&f': 'cyp&f schools', 'cyp&f': 'cyp&f schools'})\n",
    "purchases['category'] = purchases['category'].replace({'corporate procurement': 'corporate resources'})"
   ]
  },
  {
   "cell_type": "code",
   "execution_count": 625,
   "id": "f9f449c4-df7f-48f7-8787-89e9cabba47f",
   "metadata": {},
   "outputs": [
    {
     "data": {
      "text/plain": [
       "cyp&f schools           113226\n",
       "local services           42431\n",
       "adults & communities     13022\n",
       "corporate resources      12467\n",
       "development               4024\n",
       "unknown                    738\n",
       "                             1\n",
       "Name: category, dtype: int64"
      ]
     },
     "execution_count": 625,
     "metadata": {},
     "output_type": "execute_result"
    }
   ],
   "source": [
    "purchases['category'].value_counts()"
   ]
  },
  {
   "cell_type": "markdown",
   "id": "579a23bf-0f81-4bf8-9d7d-bbf0af2a6cb7",
   "metadata": {},
   "source": [
    "Now we save the output data:"
   ]
  },
  {
   "cell_type": "code",
   "execution_count": 661,
   "id": "e431dd12-83d0-466a-a23d-63263ba1089c",
   "metadata": {},
   "outputs": [],
   "source": [
    "# purchases.to_csv('data/output/purchases_clean.csv', index=False)"
   ]
  },
  {
   "cell_type": "markdown",
   "id": "7fdee7ae-208b-4b37-a371-8fced6c851b4",
   "metadata": {},
   "source": [
    "## Exploratory Data Analysis\n",
    "\n",
    "Now that we have cleaned the data we will start looking at the distributions and summary statistics of the data at both the transaction and client level."
   ]
  },
  {
   "cell_type": "code",
   "execution_count": 626,
   "id": "e4d0b4d3-283c-42de-9270-86d9b2f883d8",
   "metadata": {},
   "outputs": [
    {
     "data": {
      "text/plain": [
       "15856"
      ]
     },
     "execution_count": 626,
     "metadata": {},
     "output_type": "execute_result"
    }
   ],
   "source": [
    "#Total number of Merchants, couting duplicate or amibiguous namings\n",
    "purchases.merchant.nunique()"
   ]
  },
  {
   "cell_type": "code",
   "execution_count": 627,
   "id": "0bf10a88-6201-488d-acb0-8772864044a7",
   "metadata": {},
   "outputs": [
    {
     "data": {
      "text/plain": [
       "1523"
      ]
     },
     "execution_count": 627,
     "metadata": {},
     "output_type": "execute_result"
    }
   ],
   "source": [
    "# Total number of unique users, given by credit card number\n",
    "purchases.card_number_id.nunique()"
   ]
  },
  {
   "cell_type": "code",
   "execution_count": 628,
   "id": "9a59a3a3-f259-4add-a1a5-00387b31c652",
   "metadata": {},
   "outputs": [
    {
     "data": {
      "text/plain": [
       "min        1.000000\n",
       "mean     122.066973\n",
       "max     2676.000000\n",
       "Name: merchant, dtype: float64"
      ]
     },
     "execution_count": 628,
     "metadata": {},
     "output_type": "execute_result"
    }
   ],
   "source": [
    "# Min, Max and Average number of transactions per client\n",
    "purchases.groupby('card_number_id').count()['merchant'].agg({'mean', 'max', 'min'})"
   ]
  },
  {
   "cell_type": "code",
   "execution_count": 629,
   "id": "f0eba83d-6b47-4148-bf5c-5638169c0383",
   "metadata": {},
   "outputs": [
    {
     "data": {
      "text/plain": [
       "min    -486980.090000\n",
       "mean       176.607761\n",
       "max     280102.230000\n",
       "Name: gross_amount, dtype: float64"
      ]
     },
     "execution_count": 629,
     "metadata": {},
     "output_type": "execute_result"
    }
   ],
   "source": [
    "# Min, Max and Average amount of purchases in GBP\n",
    "purchases['gross_amount'].agg({'mean', 'max', 'min'})"
   ]
  },
  {
   "cell_type": "code",
   "execution_count": 630,
   "id": "16d06350-6407-4108-8aff-b13c0d879fb8",
   "metadata": {},
   "outputs": [
    {
     "data": {
      "text/plain": [
       "0.027674830158841153"
      ]
     },
     "execution_count": 630,
     "metadata": {},
     "output_type": "execute_result"
    }
   ],
   "source": [
    "# How many negatives?\n",
    "sum(purchases['gross_amount'] < 0)/len(purchases)"
   ]
  },
  {
   "cell_type": "markdown",
   "id": "7e35700f-f727-4b8a-a38d-b5d7715267b3",
   "metadata": {},
   "source": [
    "We see here that the minimum value for all transactions is a negative value. Also, we see that only around 2% of our data consists of negative amounts. These transactions usually reflect an overpayment from the user, which leaves the loaning entity owining money to the customer. We will limit our analysis to only those positive amount transactions since we don't want to mix different behaviors in our analysis."
   ]
  },
  {
   "cell_type": "code",
   "execution_count": 631,
   "id": "40c37f65-3aaa-45dd-930c-fb49ed46d6bb",
   "metadata": {},
   "outputs": [],
   "source": [
    "purchases_pos = purchases[purchases['gross_amount'] > 0].set_index('trans_date')"
   ]
  },
  {
   "cell_type": "code",
   "execution_count": 632,
   "id": "bd19823e-fba8-496f-941d-cda51aca42f1",
   "metadata": {},
   "outputs": [
    {
     "data": {
      "image/png": "[encoded data removed]",
      "text/plain": [
       "<Figure size 432x288 with 1 Axes>"
      ]
     },
     "metadata": {
      "needs_background": "light"
     },
     "output_type": "display_data"
    }
   ],
   "source": [
    "# How many transactions are completed every month for all years\n",
    "purchases_pos.groupby(purchases_pos.index.month).count()['card_number_id'].plot();"
   ]
  },
  {
   "cell_type": "markdown",
   "id": "3267c69a-b204-4222-a374-87c385f566e2",
   "metadata": {},
   "source": [
    "We see here that most transactions happen around January, June, and November."
   ]
  },
  {
   "cell_type": "code",
   "execution_count": 633,
   "id": "1f8a60bb-b87d-4274-9e40-b0cac59225e3",
   "metadata": {},
   "outputs": [
    {
     "data": {
      "image/png": "[encoded data removed]",
      "text/plain": [
       "<Figure size 432x288 with 1 Axes>"
      ]
     },
     "metadata": {
      "needs_background": "light"
     },
     "output_type": "display_data"
    }
   ],
   "source": [
    "# Is there a growing trend in purchases?\n",
    "purchases_pos.groupby(purchases_pos.index.year).count()['card_number_id'].plot();"
   ]
  },
  {
   "cell_type": "markdown",
   "id": "24cf7233-706d-4cc7-85ce-2cfd0410ac2c",
   "metadata": {},
   "source": [
    "We can see there is a consistent  mildly upward trend on the number of purchases, we a drop on 2018. However, we only have data for 2 months for 2018, which as we saw from the monthly purchases, we are probably missing two more peaks of purchases for that year."
   ]
  },
  {
   "cell_type": "code",
   "execution_count": 634,
   "id": "130b8a7a-ac7a-4f88-a296-cc1a0646c9f0",
   "metadata": {},
   "outputs": [
    {
     "data": {
      "image/png": "[encoded data removed]",
      "text/plain": [
       "<Figure size 432x288 with 1 Axes>"
      ]
     },
     "metadata": {
      "needs_background": "light"
     },
     "output_type": "display_data"
    }
   ],
   "source": [
    "# What are the more common types of transactions?\n",
    "purchases_pos['category'].value_counts().plot(kind='bar');"
   ]
  },
  {
   "cell_type": "markdown",
   "id": "a2d5a364-ce24-4b50-8a47-b0f19def4822",
   "metadata": {},
   "source": [
    "## Modeling\n",
    "\n",
    "At this point we would like to have a look at potential groupings that may arise for each transaction. We will focus mainly on working at the transaction level, and will ignore any clustering by customer, i.e., we don't want to find characteristics about the clients but instead we want to find patterns for each transaction independently."
   ]
  },
  {
   "cell_type": "code",
   "execution_count": 635,
   "id": "e038999c-1d5e-4b08-bea5-b19d529e8012",
   "metadata": {},
   "outputs": [],
   "source": [
    "purchases_pos['month'] = purchases_pos.index.month"
   ]
  },
  {
   "cell_type": "code",
   "execution_count": 636,
   "id": "9e820836-2d40-45c0-9e89-8346f6a44df3",
   "metadata": {},
   "outputs": [],
   "source": [
    "# Transform transaction categories into binary indicators\n",
    "categories_wide = pd.get_dummies(purchases_pos['category'])\n",
    "\n",
    "purchases_wide = pd.concat([purchases_pos[['gross_amount', 'month']], categories_wide], 1)"
   ]
  },
  {
   "cell_type": "markdown",
   "id": "14cbca5f-c731-4138-9503-e60b73d825c1",
   "metadata": {},
   "source": [
    "### Correlations\n",
    "\n",
    "Let's have a look at the features correlations."
   ]
  },
  {
   "cell_type": "code",
   "execution_count": 637,
   "id": "73d96919-7038-47a8-b59e-3fc97634b09c",
   "metadata": {},
   "outputs": [
    {
     "data": {
      "text/html": [
       "<div>\n",
       "<style scoped>\n",
       "    .dataframe tbody tr th:only-of-type {\n",
       "        vertical-align: middle;\n",
       "    }\n",
       "\n",
       "    .dataframe tbody tr th {\n",
       "        vertical-align: top;\n",
       "    }\n",
       "\n",
       "    .dataframe thead th {\n",
       "        text-align: right;\n",
       "    }\n",
       "</style>\n",
       "<table border=\"1\" class=\"dataframe\">\n",
       "  <thead>\n",
       "    <tr style=\"text-align: right;\">\n",
       "      <th></th>\n",
       "      <th>gross_amount</th>\n",
       "      <th>month</th>\n",
       "      <th>adults &amp; communities</th>\n",
       "      <th>corporate resources</th>\n",
       "      <th>cyp&amp;f schools</th>\n",
       "      <th>development</th>\n",
       "      <th>local services</th>\n",
       "      <th>unknown</th>\n",
       "    </tr>\n",
       "  </thead>\n",
       "  <tbody>\n",
       "    <tr>\n",
       "      <th>gross_amount</th>\n",
       "      <td>1.000000</td>\n",
       "      <td>0.003227</td>\n",
       "      <td>0.007211</td>\n",
       "      <td>0.118165</td>\n",
       "      <td>-0.078679</td>\n",
       "      <td>-0.008995</td>\n",
       "      <td>0.019088</td>\n",
       "      <td>0.003301</td>\n",
       "    </tr>\n",
       "    <tr>\n",
       "      <th>month</th>\n",
       "      <td>0.003227</td>\n",
       "      <td>1.000000</td>\n",
       "      <td>-0.011465</td>\n",
       "      <td>0.002662</td>\n",
       "      <td>0.004180</td>\n",
       "      <td>0.000370</td>\n",
       "      <td>0.004481</td>\n",
       "      <td>-0.027906</td>\n",
       "    </tr>\n",
       "    <tr>\n",
       "      <th>adults &amp; communities</th>\n",
       "      <td>0.007211</td>\n",
       "      <td>-0.011465</td>\n",
       "      <td>1.000000</td>\n",
       "      <td>-0.073927</td>\n",
       "      <td>-0.343421</td>\n",
       "      <td>-0.040999</td>\n",
       "      <td>-0.148824</td>\n",
       "      <td>-0.016892</td>\n",
       "    </tr>\n",
       "    <tr>\n",
       "      <th>corporate resources</th>\n",
       "      <td>0.118165</td>\n",
       "      <td>0.002662</td>\n",
       "      <td>-0.073927</td>\n",
       "      <td>1.000000</td>\n",
       "      <td>-0.336454</td>\n",
       "      <td>-0.040167</td>\n",
       "      <td>-0.145804</td>\n",
       "      <td>-0.016550</td>\n",
       "    </tr>\n",
       "    <tr>\n",
       "      <th>cyp&amp;f schools</th>\n",
       "      <td>-0.078679</td>\n",
       "      <td>0.004180</td>\n",
       "      <td>-0.343421</td>\n",
       "      <td>-0.336454</td>\n",
       "      <td>1.000000</td>\n",
       "      <td>-0.186593</td>\n",
       "      <td>-0.677319</td>\n",
       "      <td>-0.076880</td>\n",
       "    </tr>\n",
       "    <tr>\n",
       "      <th>development</th>\n",
       "      <td>-0.008995</td>\n",
       "      <td>0.000370</td>\n",
       "      <td>-0.040999</td>\n",
       "      <td>-0.040167</td>\n",
       "      <td>-0.186593</td>\n",
       "      <td>1.000000</td>\n",
       "      <td>-0.080861</td>\n",
       "      <td>-0.009178</td>\n",
       "    </tr>\n",
       "    <tr>\n",
       "      <th>local services</th>\n",
       "      <td>0.019088</td>\n",
       "      <td>0.004481</td>\n",
       "      <td>-0.148824</td>\n",
       "      <td>-0.145804</td>\n",
       "      <td>-0.677319</td>\n",
       "      <td>-0.080861</td>\n",
       "      <td>1.000000</td>\n",
       "      <td>-0.033316</td>\n",
       "    </tr>\n",
       "    <tr>\n",
       "      <th>unknown</th>\n",
       "      <td>0.003301</td>\n",
       "      <td>-0.027906</td>\n",
       "      <td>-0.016892</td>\n",
       "      <td>-0.016550</td>\n",
       "      <td>-0.076880</td>\n",
       "      <td>-0.009178</td>\n",
       "      <td>-0.033316</td>\n",
       "      <td>1.000000</td>\n",
       "    </tr>\n",
       "  </tbody>\n",
       "</table>\n",
       "</div>"
      ],
      "text/plain": [
       "                      gross_amount     month  adults & communities  \\\n",
       "gross_amount              1.000000  0.003227              0.007211   \n",
       "month                     0.003227  1.000000             -0.011465   \n",
       "adults & communities      0.007211 -0.011465              1.000000   \n",
       "corporate resources       0.118165  0.002662             -0.073927   \n",
       "cyp&f schools            -0.078679  0.004180             -0.343421   \n",
       "development              -0.008995  0.000370             -0.040999   \n",
       "local services            0.019088  0.004481             -0.148824   \n",
       "unknown                   0.003301 -0.027906             -0.016892   \n",
       "\n",
       "                      corporate resources  cyp&f schools  development  \\\n",
       "gross_amount                     0.118165      -0.078679    -0.008995   \n",
       "month                            0.002662       0.004180     0.000370   \n",
       "adults & communities            -0.073927      -0.343421    -0.040999   \n",
       "corporate resources              1.000000      -0.336454    -0.040167   \n",
       "cyp&f schools                   -0.336454       1.000000    -0.186593   \n",
       "development                     -0.040167      -0.186593     1.000000   \n",
       "local services                  -0.145804      -0.677319    -0.080861   \n",
       "unknown                         -0.016550      -0.076880    -0.009178   \n",
       "\n",
       "                      local services   unknown  \n",
       "gross_amount                0.019088  0.003301  \n",
       "month                       0.004481 -0.027906  \n",
       "adults & communities       -0.148824 -0.016892  \n",
       "corporate resources        -0.145804 -0.016550  \n",
       "cyp&f schools              -0.677319 -0.076880  \n",
       "development                -0.080861 -0.009178  \n",
       "local services              1.000000 -0.033316  \n",
       "unknown                    -0.033316  1.000000  "
      ]
     },
     "execution_count": 637,
     "metadata": {},
     "output_type": "execute_result"
    }
   ],
   "source": [
    "purchases_wide.corr()"
   ]
  },
  {
   "cell_type": "markdown",
   "id": "cdddab72-af1d-4afd-8e22-95642b1f4dbf",
   "metadata": {},
   "source": [
    "We can see there are no strong relationships between the variables from our data.\n",
    "\n",
    "### KMeans Clustering\n",
    "Using this resulting matrix we want to find any clusters that could emerge to capture any interesting patterns for each transaction."
   ]
  },
  {
   "cell_type": "code",
   "execution_count": 638,
   "id": "0a1b0d0a-2158-4ff0-a794-df53c44d02bb",
   "metadata": {},
   "outputs": [],
   "source": [
    "from sklearn.cluster import KMeans"
   ]
  },
  {
   "cell_type": "code",
   "execution_count": 639,
   "id": "48cd858a-9995-4f21-a8ba-b6b398846414",
   "metadata": {},
   "outputs": [],
   "source": [
    "score_1 = []\n",
    "range_values = range(1, 10)\n",
    "for i in range_values:\n",
    "    kmeans = KMeans(n_clusters = i)\n",
    "    kmeans.fit(purchases_wide)\n",
    "    score_1.append(kmeans.inertia_)"
   ]
  },
  {
   "cell_type": "code",
   "execution_count": 640,
   "id": "98364c34-4fb9-4aae-a66b-9520926aeade",
   "metadata": {},
   "outputs": [
    {
     "data": {
      "image/png": "[encoded data removed]",
      "text/plain": [
       "<Figure size 432x288 with 1 Axes>"
      ]
     },
     "metadata": {
      "needs_background": "light"
     },
     "output_type": "display_data"
    }
   ],
   "source": [
    "plt.plot(range_values, score_1);\n",
    "plt.xlabel('n clusters');"
   ]
  },
  {
   "cell_type": "markdown",
   "id": "6aecfdd3-f349-4e82-bdb6-cc91eee12dce",
   "metadata": {},
   "source": [
    "Given that two clusters will suffice to group our transactions we go ahead and create these:"
   ]
  },
  {
   "cell_type": "code",
   "execution_count": 519,
   "id": "7d0c5991-96b0-4479-914e-72d58ee79008",
   "metadata": {},
   "outputs": [],
   "source": [
    "kmeans = KMeans(n_clusters = 2, init = 'k-means++',\n",
    "                max_iter = 300, n_init = 10, random_state = 0)\n",
    "labels = kmeans.fit_predict(purchases_wide)"
   ]
  },
  {
   "cell_type": "code",
   "execution_count": 642,
   "id": "b7e62a6f-dc1c-4682-a2fd-3c587012ee7d",
   "metadata": {},
   "outputs": [],
   "source": [
    "purchases_wide['cluster'] = labels"
   ]
  },
  {
   "cell_type": "markdown",
   "id": "c0b97575-094a-4a4c-a0e3-378e1d4a74c0",
   "metadata": {},
   "source": [
    "Having two clusters makes sense since there is little information we can get from the current dataset, other than trying to identify anomalous purchases. Therefore, if we think in these terms anoalous vs not anomalous, these two clusters are apporpriate to our goals.\n",
    "\n",
    "Now let's compare where differences arise between the two determine clusters."
   ]
  },
  {
   "cell_type": "code",
   "execution_count": 643,
   "id": "0b844cf1-ce3d-420a-ae20-e372c0735e5b",
   "metadata": {},
   "outputs": [
    {
     "data": {
      "text/plain": [
       "0    180616\n",
       "1       147\n",
       "Name: cluster, dtype: int64"
      ]
     },
     "execution_count": 643,
     "metadata": {},
     "output_type": "execute_result"
    }
   ],
   "source": [
    "# Sample size\n",
    "purchases_wide['cluster'].value_counts()"
   ]
  },
  {
   "cell_type": "markdown",
   "id": "b123aff4-afc8-4317-869a-40c5c1125c28",
   "metadata": {},
   "source": [
    "The proportion of transactions that are labeled into one of these two groups is quite small, let's see how other variables vary by each cluster."
   ]
  },
  {
   "cell_type": "code",
   "execution_count": 522,
   "id": "a653c967-09a9-4f15-bd0c-43387fc9e78a",
   "metadata": {},
   "outputs": [
    {
     "data": {
      "text/html": [
       "<div>\n",
       "<style scoped>\n",
       "    .dataframe tbody tr th:only-of-type {\n",
       "        vertical-align: middle;\n",
       "    }\n",
       "\n",
       "    .dataframe tbody tr th {\n",
       "        vertical-align: top;\n",
       "    }\n",
       "\n",
       "    .dataframe thead th {\n",
       "        text-align: right;\n",
       "    }\n",
       "</style>\n",
       "<table border=\"1\" class=\"dataframe\">\n",
       "  <thead>\n",
       "    <tr style=\"text-align: right;\">\n",
       "      <th>cluster</th>\n",
       "      <th>0</th>\n",
       "      <th>1</th>\n",
       "    </tr>\n",
       "  </thead>\n",
       "  <tbody>\n",
       "    <tr>\n",
       "      <th>gross_amount</th>\n",
       "      <td>150.384545</td>\n",
       "      <td>52796.661224</td>\n",
       "    </tr>\n",
       "    <tr>\n",
       "      <th>month</th>\n",
       "      <td>6.562874</td>\n",
       "      <td>6.687075</td>\n",
       "    </tr>\n",
       "    <tr>\n",
       "      <th>adults &amp; communities</th>\n",
       "      <td>0.070221</td>\n",
       "      <td>0.000000</td>\n",
       "    </tr>\n",
       "    <tr>\n",
       "      <th>corporate resources</th>\n",
       "      <td>0.066810</td>\n",
       "      <td>0.959184</td>\n",
       "    </tr>\n",
       "    <tr>\n",
       "      <th>cyp&amp;f schools</th>\n",
       "      <td>0.610306</td>\n",
       "      <td>0.020408</td>\n",
       "    </tr>\n",
       "    <tr>\n",
       "      <th>development</th>\n",
       "      <td>0.021809</td>\n",
       "      <td>0.000000</td>\n",
       "    </tr>\n",
       "    <tr>\n",
       "      <th>local services</th>\n",
       "      <td>0.227101</td>\n",
       "      <td>0.000000</td>\n",
       "    </tr>\n",
       "    <tr>\n",
       "      <th>unknown</th>\n",
       "      <td>0.003754</td>\n",
       "      <td>0.020408</td>\n",
       "    </tr>\n",
       "  </tbody>\n",
       "</table>\n",
       "</div>"
      ],
      "text/plain": [
       "cluster                        0             1\n",
       "gross_amount          150.384545  52796.661224\n",
       "month                   6.562874      6.687075\n",
       "adults & communities    0.070221      0.000000\n",
       "corporate resources     0.066810      0.959184\n",
       "cyp&f schools           0.610306      0.020408\n",
       "development             0.021809      0.000000\n",
       "local services          0.227101      0.000000\n",
       "unknown                 0.003754      0.020408"
      ]
     },
     "execution_count": 522,
     "metadata": {},
     "output_type": "execute_result"
    }
   ],
   "source": [
    "purchases_wide.groupby('cluster').mean().T"
   ]
  },
  {
   "cell_type": "markdown",
   "id": "0cfcbd99-8c43-4e71-8209-b1a1a8f3a940",
   "metadata": {},
   "source": [
    "We can say that this clustering algorithm captures a samll number of transactions of large amounts mainly related to Corporate Resources, Schools, and Local Services. We cannot say anything else concerning these transactions, i.e, we cannot say these are stritly fraudulent, although they are unsually large (way above the 176 GBP average per transaction). Also, given that they appear in such low numbers, one may be inclined to say that these purchases are not very common, or in other words, may represent an anomaly from the general behavior. Therefore, we can treat this grouping as a flag for anomaly vs not."
   ]
  },
  {
   "cell_type": "markdown",
   "id": "465757b9-41db-424a-939c-d9e7c92a0a98",
   "metadata": {},
   "source": [
    "### Anomaly Detection\n",
    "\n",
    "Another approach we could take to tackle anomalous behavior is to actually fit a Multivariate Normal to the gross amount per transaction to determine if there are outliers. Before we fit this model, the transaction amount needs to be transformed into a logarithmic scale, so that it adjusts to our assumptions.\n",
    "\n",
    "We will take the cluster identification as a proxy for an anomaly, and then we'll try to capture these outliers with the following Gaussian estimation."
   ]
  },
  {
   "cell_type": "code",
   "execution_count": 647,
   "id": "91ff754d-15c4-48eb-baa7-e38625dff00f",
   "metadata": {},
   "outputs": [],
   "source": [
    "# transform into log scale to adjust to normality assumptions\n",
    "log_amount = np.log(purchases_wide['gross_amount'])"
   ]
  },
  {
   "cell_type": "code",
   "execution_count": 648,
   "id": "cfd991a0-bf30-4945-b39d-abd77457685f",
   "metadata": {},
   "outputs": [],
   "source": [
    "from scipy.stats import norm\n",
    "mu, std = norm.fit(log_amount)"
   ]
  },
  {
   "cell_type": "code",
   "execution_count": 649,
   "id": "6cdfab47-fcc8-42ae-a8c0-501873ccd3d3",
   "metadata": {},
   "outputs": [
    {
     "data": {
      "image/png": "[encoded data removed]",
      "text/plain": [
       "<Figure size 432x288 with 1 Axes>"
      ]
     },
     "metadata": {
      "needs_background": "light"
     },
     "output_type": "display_data"
    }
   ],
   "source": [
    "# Plot the histogram.\n",
    "plt.hist(log_amount, bins=25, density=True, alpha=0.6, color='g')\n",
    "\n",
    "# Plot the PDF.\n",
    "xmin, xmax = plt.xlim()\n",
    "x = np.linspace(xmin, xmax, 100)\n",
    "p = norm.pdf(x, mu, std)\n",
    "plt.plot(x, p, 'k', linewidth=2)\n",
    "title = \"Fit results: mu = %.2f,  std = %.2f\" % (mu, std)\n",
    "plt.title(title)\n",
    "\n",
    "plt.show()"
   ]
  },
  {
   "cell_type": "markdown",
   "id": "7985da45-7db0-4a1e-a748-00d6e2c6b77e",
   "metadata": {},
   "source": [
    "In order to capture or determine the outliers we need to set a threshold and compare that to the clustering label, since we are treating that as our anomaly label. For thie we will compute Precision and Recall for multiple values of this threshold, in order to determine the best fitting value set on the normal distribution for the purchase amount. This al is assuming the clustering label does correspond to a true state of anomaly."
   ]
  },
  {
   "cell_type": "code",
   "execution_count": 650,
   "id": "b85b3e51-ed5c-418f-a5de-a238333910e3",
   "metadata": {},
   "outputs": [],
   "source": [
    "pval = norm.pdf(log_amount, mu, std)\n",
    "yval = purchases_wide['cluster'].values"
   ]
  },
  {
   "cell_type": "code",
   "execution_count": 651,
   "id": "4e9af7e5-25fe-45d5-bbae-4b3539f21d1a",
   "metadata": {},
   "outputs": [
    {
     "name": "stderr",
     "output_type": "stream",
     "text": [
      "/Users/ilanreinstein/Interviews/env/lib/python3.7/site-packages/sklearn/metrics/_classification.py:1245: UndefinedMetricWarning: Precision is ill-defined and being set to 0.0 due to no predicted samples. Use `zero_division` parameter to control this behavior.\n",
      "  _warn_prf(average, modifier, msg_start, len(result))\n",
      "/Users/ilanreinstein/Interviews/env/lib/python3.7/site-packages/ipykernel_launcher.py:13: RuntimeWarning: invalid value encountered in double_scalars\n",
      "  del sys.path[0]\n"
     ]
    }
   ],
   "source": [
    "from sklearn.metrics import precision_score, recall_score\n",
    "\n",
    "F1 = 0\n",
    "bestF1 = 0\n",
    "bestEpsilon = 0\n",
    "erange = np.arange(0, 0.1, 0.0005)\n",
    "\n",
    "for eps in erange:\n",
    "    try:\n",
    "        pred = (pval < eps).astype(int)\n",
    "        prec = precision_score(yval, pred)\n",
    "        rec = recall_score(yval, pred)\n",
    "        F1 = 2*prec*rec/(prec + rec)\n",
    "        if F1 > bestF1:\n",
    "            bestF1 = F1\n",
    "            bestEpsilon = epsilon\n",
    "    except ZeroDivisionError:\n",
    "        print('Warning dividing by zero!!') \n"
   ]
  },
  {
   "cell_type": "markdown",
   "id": "2adac2e0-82d6-4a2f-bf49-2b1b46883528",
   "metadata": {},
   "source": [
    "Now that we determined the best threshold to flag anomalies based on our previusly labeled transactions (via clustering) we can compare all of our variables purchases that were flagged by the Anomaly Detection algorithm."
   ]
  },
  {
   "cell_type": "code",
   "execution_count": 656,
   "id": "31a293e1-872f-41f5-b16c-0ec548e2f9ab",
   "metadata": {},
   "outputs": [
    {
     "data": {
      "text/html": [
       "<div>\n",
       "<style scoped>\n",
       "    .dataframe tbody tr th:only-of-type {\n",
       "        vertical-align: middle;\n",
       "    }\n",
       "\n",
       "    .dataframe tbody tr th {\n",
       "        vertical-align: top;\n",
       "    }\n",
       "\n",
       "    .dataframe thead th {\n",
       "        text-align: right;\n",
       "    }\n",
       "</style>\n",
       "<table border=\"1\" class=\"dataframe\">\n",
       "  <thead>\n",
       "    <tr style=\"text-align: right;\">\n",
       "      <th>outlier</th>\n",
       "      <th>False</th>\n",
       "      <th>True</th>\n",
       "    </tr>\n",
       "  </thead>\n",
       "  <tbody>\n",
       "    <tr>\n",
       "      <th>gross_amount</th>\n",
       "      <td>90.603706</td>\n",
       "      <td>3266.145909</td>\n",
       "    </tr>\n",
       "    <tr>\n",
       "      <th>month</th>\n",
       "      <td>6.554107</td>\n",
       "      <td>6.828596</td>\n",
       "    </tr>\n",
       "    <tr>\n",
       "      <th>adults &amp; communities</th>\n",
       "      <td>0.069048</td>\n",
       "      <td>0.103596</td>\n",
       "    </tr>\n",
       "    <tr>\n",
       "      <th>corporate resources</th>\n",
       "      <td>0.064383</td>\n",
       "      <td>0.161986</td>\n",
       "    </tr>\n",
       "    <tr>\n",
       "      <th>cyp&amp;f schools</th>\n",
       "      <td>0.625875</td>\n",
       "      <td>0.129110</td>\n",
       "    </tr>\n",
       "    <tr>\n",
       "      <th>development</th>\n",
       "      <td>0.022221</td>\n",
       "      <td>0.008904</td>\n",
       "    </tr>\n",
       "    <tr>\n",
       "      <th>local services</th>\n",
       "      <td>0.214654</td>\n",
       "      <td>0.594178</td>\n",
       "    </tr>\n",
       "    <tr>\n",
       "      <th>unknown</th>\n",
       "      <td>0.003819</td>\n",
       "      <td>0.002226</td>\n",
       "    </tr>\n",
       "  </tbody>\n",
       "</table>\n",
       "</div>"
      ],
      "text/plain": [
       "outlier                   False        True \n",
       "gross_amount          90.603706  3266.145909\n",
       "month                  6.554107     6.828596\n",
       "adults & communities   0.069048     0.103596\n",
       "corporate resources    0.064383     0.161986\n",
       "cyp&f schools          0.625875     0.129110\n",
       "development            0.022221     0.008904\n",
       "local services         0.214654     0.594178\n",
       "unknown                0.003819     0.002226"
      ]
     },
     "execution_count": 656,
     "metadata": {},
     "output_type": "execute_result"
    }
   ],
   "source": [
    "purchases_wide['outlier'] = pval < bestEpsilon\n",
    "purchases_wide.groupby('outlier').mean().T[:-1]"
   ]
  },
  {
   "cell_type": "markdown",
   "id": "d10ea6d7-eb20-4a71-b660-23f250445012",
   "metadata": {},
   "source": [
    "Again, we can see this other method for anomaly detection gives us similar resutls for the behavior of the transactions. Many high-valued purchases will be flagged, as anomalous, where the majority belong to Local Services. This is however a consrvative approximation, since we do not have proper groun truth on the state of the transactions."
   ]
  },
  {
   "cell_type": "markdown",
   "id": "4a0c6a37-39f1-475c-bb4f-785e66c539fc",
   "metadata": {},
   "source": [
    "## Forecasting\n",
    "\n",
    "Another problem that we may want to tackle is to determine future purchase amounts. Given that there are some trends over time we can try and determine unseen credit card behavior, and subsequently flag it as anomalous based on the previous methods, either clusterin or the Normal Distribution.\n",
    "\n",
    "For simplicity, we'll use Facebook's pre-built Prophet library, which is a widely used library for Time Series Forecasting."
   ]
  },
  {
   "cell_type": "code",
   "execution_count": 583,
   "id": "5749c5b0-b0c5-4217-8f8c-c35ed944b75c",
   "metadata": {},
   "outputs": [
    {
     "data": {
      "text/plain": [
       "<AxesSubplot:xlabel='trans_date'>"
      ]
     },
     "execution_count": 583,
     "metadata": {},
     "output_type": "execute_result"
    },
    {
     "data": {
      "image/png": "[encoded data removed]",
      "text/plain": [
       "<Figure size 432x288 with 1 Axes>"
      ]
     },
     "metadata": {
      "needs_background": "light"
     },
     "output_type": "display_data"
    }
   ],
   "source": [
    "purchases_wide.sort_index()['gross_amount'].plot()"
   ]
  },
  {
   "cell_type": "markdown",
   "id": "66d18d5d-16d1-4bc6-8e23-b7e30da78305",
   "metadata": {},
   "source": [
    "In order for us to make reliable predictions, we need to resample our data so that we get weekly purchase averages. This in turn will give us a more uniform time interval, therefore it is more appropriate to model. Additionally, we can take care of missing values since we are able to interpolate values between time intervals."
   ]
  },
  {
   "cell_type": "code",
   "execution_count": 657,
   "id": "91f7393a-eff5-41f5-8f7f-ea3a642319a5",
   "metadata": {},
   "outputs": [],
   "source": [
    "weekly_purchases = purchases_wide['gross_amount'].resample(rule = 'W').mean().\\\n",
    "                    interpolate().reset_index().rename(columns = {'trans_date':'ds', 'gross_amount':'y'})\n",
    "\n"
   ]
  },
  {
   "cell_type": "code",
   "execution_count": 658,
   "id": "a4c6cc8e-b716-4b2d-9547-1ff47f834f4b",
   "metadata": {},
   "outputs": [
    {
     "name": "stderr",
     "output_type": "stream",
     "text": [
      "INFO:prophet:Disabling weekly seasonality. Run prophet with weekly_seasonality=True to override this.\n",
      "INFO:prophet:Disabling daily seasonality. Run prophet with daily_seasonality=True to override this.\n"
     ]
    },
    {
     "data": {
      "text/plain": [
       "<prophet.forecaster.Prophet at 0x15fc8f1d0>"
      ]
     },
     "execution_count": 658,
     "metadata": {},
     "output_type": "execute_result"
    }
   ],
   "source": [
    "from prophet import Prophet\n",
    "# Prophet requires columns ds (Date) and y (value)\n",
    "# weekly_purchases['y'] = np.log(weekly_purchases['y'])\n",
    "# Make the prophet model and fit on the data\n",
    "w_prophet = Prophet(changepoint_prior_scale=0.15)\n",
    "w_prophet.fit(weekly_purchases)"
   ]
  },
  {
   "cell_type": "code",
   "execution_count": 620,
   "id": "f46ab347-41dd-4417-83f8-aefe71a7644d",
   "metadata": {},
   "outputs": [],
   "source": [
    "w_forecast = w_prophet.make_future_dataframe(periods=52, freq='W')\n",
    "# Make predictions\n",
    "w_forecast = w_prophet.predict(w_forecast)"
   ]
  },
  {
   "cell_type": "code",
   "execution_count": 621,
   "id": "628f2002-5c88-4c74-8ac4-dbefbd0599d1",
   "metadata": {},
   "outputs": [
    {
     "data": {
      "image/png": "[encoded data removed]",
      "text/plain": [
       "<Figure size 720x432 with 1 Axes>"
      ]
     },
     "metadata": {},
     "output_type": "display_data"
    }
   ],
   "source": [
    "w_prophet.plot(w_forecast, xlabel = 'Date', ylabel = 'Purchase Amount (GBP)')\n",
    "plt.title('Weekly Purchases');"
   ]
  },
  {
   "cell_type": "markdown",
   "id": "dfdcce64-4530-4836-b569-0ca1880e3497",
   "metadata": {},
   "source": [
    "We see here a number of outliers that exceed the upper predictive interval, i.e., they are well above the average and tend to be very high purchase amounts, which we already determined are anomalous."
   ]
  },
  {
   "cell_type": "code",
   "execution_count": null,
   "id": "95fb9923-cdde-46bc-8fa8-a9f2d640dc81",
   "metadata": {},
   "outputs": [],
   "source": []
  }
 ],
 "metadata": {
  "kernelspec": {
   "display_name": "Python 3",
   "language": "python",
   "name": "python3"
  },
  "language_info": {
   "codemirror_mode": {
    "name": "ipython",
    "version": 3
   },
   "file_extension": ".py",
   "mimetype": "text/x-python",
   "name": "python",
   "nbconvert_exporter": "python",
   "pygments_lexer": "ipython3",
   "version": "3.7.9"
  }
 },
 "nbformat": 4,
 "nbformat_minor": 5
}
